{
 "cells": [
  {
   "cell_type": "code",
   "execution_count": null,
   "metadata": {},
   "outputs": [],
   "source": [
    "import numpy as np\n",
    "import matplotlib.pyplot as plt\n",
    "from bm3dornl.bm3d import bm3d_ring_artifact_removal_ms\n",
    "from bm3dornl.denoiser_gpu import memory_cleanup\n",
    "\n",
    "with open(\"../../tests/bm3dornl-data/sino.npy\", \"rb\") as f:\n",
    "    sino_noisy = np.load(f)\n",
    "\n",
    "memory_cleanup()\n",
    "\n",
    "block_matching_kwargs: dict = {\n",
    "    \"patch_size\": (8, 8),\n",
    "    \"stride\": 3,\n",
    "    \"background_threshold\": 0.0,\n",
    "    \"cut_off_distance\": (64, 64),\n",
    "    \"num_patches_per_group\": 32,\n",
    "    \"padding_mode\": \"circular\",\n",
    "}\n",
    "filter_kwargs: dict = {\n",
    "    \"filter_function\": \"fft\",\n",
    "    \"shrinkage_factor\": 3e-2,\n",
    "}\n",
    "kwargs = {\n",
    "    \"mode\": \"simple\",\n",
    "    \"k\": 4,\n",
    "    \"block_matching_kwargs\": block_matching_kwargs,\n",
    "    \"filter_kwargs\": filter_kwargs,\n",
    "}\n",
    "\n",
    "sino_bm3dornl = bm3d_ring_artifact_removal_ms(\n",
    "    sinogram=sino_noisy,\n",
    "    **kwargs,\n",
    ")\n",
    "\n",
    "\n",
    "fig, axs = plt.subplots(1, 2, figsize=(12, 4))\n",
    "axs[0].imshow(sino_noisy, cmap=\"gray\")\n",
    "axs[0].set_title(\"Noisy sinogram\")\n",
    "axs[1].imshow(sino_bm3dornl, cmap=\"gray\")\n",
    "axs[1].set_title(\"BM3D denoised sinogram\")\n",
    "plt.show()\n"
   ]
  }
 ],
 "metadata": {
  "language_info": {
   "name": "python"
  }
 },
 "nbformat": 4,
 "nbformat_minor": 2
}
